{
 "cells": [
  {
   "cell_type": "code",
   "execution_count": null,
   "id": "364a1017",
   "metadata": {},
   "outputs": [],
   "source": []
  },
  {
   "cell_type": "code",
   "execution_count": 1,
   "id": "bf2cfee7",
   "metadata": {},
   "outputs": [
    {
     "name": "stdout",
     "output_type": "stream",
     "text": [
      "두수의 합계는 : 7 입니다...!!!\n"
     ]
    }
   ],
   "source": [
    "def plus_numbers(left_num, right_num):\n",
    "    sum = left_num + right_num\n",
    "    return sum\n",
    "\n",
    "hap = plus_numbers(3,4)\n",
    "\n",
    "print(f\"두수의 합계는 : {hap} 입니다...!!!\")\n"
   ]
  },
  {
   "cell_type": "markdown",
   "id": "3f64fec1",
   "metadata": {},
   "source": [
    "##  이것은 함수 생성법을 테스트 하는 중입니다."
   ]
  }
 ],
 "metadata": {
  "kernelspec": {
   "display_name": "Python 3 (ipykernel)",
   "language": "python",
   "name": "python3"
  },
  "language_info": {
   "codemirror_mode": {
    "name": "ipython",
    "version": 3
   },
   "file_extension": ".py",
   "mimetype": "text/x-python",
   "name": "python",
   "nbconvert_exporter": "python",
   "pygments_lexer": "ipython3",
   "version": "3.13.2"
  }
 },
 "nbformat": 4,
 "nbformat_minor": 5
}
