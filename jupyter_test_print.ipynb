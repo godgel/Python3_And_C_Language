{
 "cells": [
  {
   "cell_type": "code",
   "execution_count": 5,
   "id": "21df5714",
   "metadata": {},
   "outputs": [
    {
     "name": "stdout",
     "output_type": "stream",
     "text": [
      "Input Your Name : \n",
      "\n"
     ]
    }
   ],
   "source": [
    "print(\"Input Your Name : \")\n",
    "\n",
    "name = input('gong')\n",
    "\n",
    "print(name)"
   ]
  },
  {
   "cell_type": "markdown",
   "id": "88616357",
   "metadata": {},
   "source": [
    "## Hello This is a Test File Of Jupyter NoteBook.\n"
   ]
  }
 ],
 "metadata": {
  "kernelspec": {
   "display_name": "seokenv",
   "language": "python",
   "name": "python3"
  },
  "language_info": {
   "codemirror_mode": {
    "name": "ipython",
    "version": 3
   },
   "file_extension": ".py",
   "mimetype": "text/x-python",
   "name": "python",
   "nbconvert_exporter": "python",
   "pygments_lexer": "ipython3",
   "version": "3.13.2"
  }
 },
 "nbformat": 4,
 "nbformat_minor": 5
}
