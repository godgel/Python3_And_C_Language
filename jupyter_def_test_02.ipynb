{
 "cells": [
  {
   "cell_type": "code",
   "execution_count": 1,
   "id": "bf2cfee7",
   "metadata": {},
   "outputs": [
    {
     "name": "stdout",
     "output_type": "stream",
     "text": [
      "더하실 숫자 2개를 입력을 하세요...?\n"
     ]
    },
    {
     "name": "stdin",
     "output_type": "stream",
     "text": [
      " 33\n",
      " 22\n"
     ]
    },
    {
     "name": "stdout",
     "output_type": "stream",
     "text": [
      "numA, numB 두수의 합계는 : 55 입니다...!!!\n"
     ]
    }
   ],
   "source": [
    "def plus_numbers(left_num, right_num):\n",
    "    sum = int(left_num) + int(right_num)\n",
    "    return sum\n",
    "print(\"더하실 숫자 2개를 입력을 하세요...?\")\n",
    "numA = input()\n",
    "numB = input()\n",
    "hap = plus_numbers(numA,numB)\n",
    "print(f\"numA, numB 두수의 합계는 : {hap} 입니다...!!!\")"
   ]
  },
  {
   "cell_type": "markdown",
   "id": "ffbe7715",
   "metadata": {},
   "source": [
    "###  이것은 함수 생성법을 테스트 하는 중입니다."
   ]
  }
 ],
 "metadata": {
  "kernelspec": {
   "display_name": "Python 3 (ipykernel)",
   "language": "python",
   "name": "python3"
  },
  "language_info": {
   "codemirror_mode": {
    "name": "ipython",
    "version": 3
   },
   "file_extension": ".py",
   "mimetype": "text/x-python",
   "name": "python",
   "nbconvert_exporter": "python",
   "pygments_lexer": "ipython3",
   "version": "3.13.2"
  }
 },
 "nbformat": 4,
 "nbformat_minor": 5
}
